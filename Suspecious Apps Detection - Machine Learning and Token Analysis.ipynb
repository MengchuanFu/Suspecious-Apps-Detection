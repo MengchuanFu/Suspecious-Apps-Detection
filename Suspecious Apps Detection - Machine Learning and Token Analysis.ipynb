{
 "cells": [
  {
   "cell_type": "markdown",
   "metadata": {},
   "source": [
    "#  Suspecious Apps Detection - Machine Learning and Token Analysis"
   ]
  },
  {
   "cell_type": "markdown",
   "metadata": {},
   "source": [
    "<br />Mengchuan (Mike) Fu mfu10@fordham.edu February 2017 (updated 3/09/2017)<br /><br />\n",
    "For the Mobile Safety Research<br /><br />"
   ]
  },
  {
   "cell_type": "markdown",
   "metadata": {},
   "source": [
    "## Installing scikit-learn"
   ]
  },
  {
   "cell_type": "markdown",
   "metadata": {},
   "source": [
    "Option 1: Install scikit-learn library and dependencies (NumPy and SciPy)<br />\n",
    "Option 2: Install Anaconda distribution of Python, which includes:\n",
    "- Hundreds of useful packages (including scikit-learn)\n",
    "- IPython and IPython Notebook\n",
    "- conda package manager\n",
    "- Spyder IDE"
   ]
  },
  {
   "cell_type": "markdown",
   "metadata": {},
   "source": [
    "## Objective"
   ]
  },
  {
   "cell_type": "markdown",
   "metadata": {},
   "source": [
    "The main objective is to monitor age rating on iOS and spy on the suspicious apps on iOS that are largely prone to mis-rated<br /><br />\n",
    "What this notebook does:<br />\n",
    "1. Import the data, examine the shape and distribution\n",
    "2. Randomly split data into training and testing sets\n",
    "3. Data vectorization: include only 1-gram and 2-grams; ignore terms that apear in more than 50% of the documents; only keep terms that appear in at least 2 documents\n",
    "4. Generate document-term matrix\n",
    "5. Build and evaluat models (Naive Bayes and Logestic Regression)\n",
    "6. Examine Tokens (Ratio based)"
   ]
  },
  {
   "cell_type": "markdown",
   "metadata": {},
   "source": [
    "## Dataset Overview "
   ]
  },
  {
   "cell_type": "markdown",
   "metadata": {},
   "source": [
    "44840 Apps data with titile, description and maturity rating<br />\n",
    "Crawled from Apple App Store"
   ]
  },
  {
   "cell_type": "markdown",
   "metadata": {
    "collapsed": true
   },
   "source": [
    "## Exploring the Dataset"
   ]
  },
  {
   "cell_type": "code",
   "execution_count": 1,
   "metadata": {
    "collapsed": false
   },
   "outputs": [
    {
     "data": {
      "text/html": [
       "<div>\n",
       "<table border=\"1\" class=\"dataframe\">\n",
       "  <thead>\n",
       "    <tr style=\"text-align: right;\">\n",
       "      <th></th>\n",
       "      <th>label</th>\n",
       "      <th>description</th>\n",
       "    </tr>\n",
       "  </thead>\n",
       "  <tbody>\n",
       "    <tr>\n",
       "      <th>0</th>\n",
       "      <td>12</td>\n",
       "      <td>Download the best Slot experience for free to...</td>\n",
       "    </tr>\n",
       "    <tr>\n",
       "      <th>1</th>\n",
       "      <td>12</td>\n",
       "      <td>Download the best Slot experience for free to...</td>\n",
       "    </tr>\n",
       "    <tr>\n",
       "      <th>2</th>\n",
       "      <td>12</td>\n",
       "      <td>Download the best Slot experience for free to...</td>\n",
       "    </tr>\n",
       "    <tr>\n",
       "      <th>3</th>\n",
       "      <td>12</td>\n",
       "      <td>Download the best Slot experience for free to...</td>\n",
       "    </tr>\n",
       "    <tr>\n",
       "      <th>4</th>\n",
       "      <td>12</td>\n",
       "      <td>Download the best Slot experience for free to...</td>\n",
       "    </tr>\n",
       "  </tbody>\n",
       "</table>\n",
       "</div>"
      ],
      "text/plain": [
       "   label                                        description\n",
       "0     12   Download the best Slot experience for free to...\n",
       "1     12   Download the best Slot experience for free to...\n",
       "2     12   Download the best Slot experience for free to...\n",
       "3     12   Download the best Slot experience for free to...\n",
       "4     12   Download the best Slot experience for free to..."
      ]
     },
     "execution_count": 1,
     "metadata": {},
     "output_type": "execute_result"
    }
   ],
   "source": [
    "import nltk\n",
    "import pandas as pd\n",
    "\n",
    "# read files\n",
    "df = pd.read_csv(\"ml-dataset.csv\",header = None, names=['label', 'description'])\n",
    "df.head()"
   ]
  },
  {
   "cell_type": "code",
   "execution_count": 2,
   "metadata": {
    "collapsed": false
   },
   "outputs": [
    {
     "data": {
      "text/plain": [
       "(44840, 2)"
      ]
     },
     "execution_count": 2,
     "metadata": {},
     "output_type": "execute_result"
    }
   ],
   "source": [
    "# examine the shape\n",
    "df.shape"
   ]
  },
  {
   "cell_type": "code",
   "execution_count": 3,
   "metadata": {
    "collapsed": false
   },
   "outputs": [
    {
     "data": {
      "text/plain": [
       "4     31486\n",
       "12     8026\n",
       "9      3479\n",
       "17     1849\n",
       "Name: label, dtype: int64"
      ]
     },
     "execution_count": 3,
     "metadata": {},
     "output_type": "execute_result"
    }
   ],
   "source": [
    "# examine the class distribution\n",
    "df.label.value_counts()"
   ]
  },
  {
   "cell_type": "code",
   "execution_count": 4,
   "metadata": {
    "collapsed": true
   },
   "outputs": [],
   "source": [
    "# convert label to a consecutive numerical variabel\n",
    "df['label_num'] = df.label.map({4:0,9:1,12:2,17:3})"
   ]
  },
  {
   "cell_type": "code",
   "execution_count": 5,
   "metadata": {
    "collapsed": false
   },
   "outputs": [
    {
     "data": {
      "text/html": [
       "<div>\n",
       "<table border=\"1\" class=\"dataframe\">\n",
       "  <thead>\n",
       "    <tr style=\"text-align: right;\">\n",
       "      <th></th>\n",
       "      <th>label</th>\n",
       "      <th>description</th>\n",
       "      <th>label_num</th>\n",
       "    </tr>\n",
       "  </thead>\n",
       "  <tbody>\n",
       "    <tr>\n",
       "      <th>0</th>\n",
       "      <td>12</td>\n",
       "      <td>Download the best Slot experience for free to...</td>\n",
       "      <td>2</td>\n",
       "    </tr>\n",
       "    <tr>\n",
       "      <th>1</th>\n",
       "      <td>12</td>\n",
       "      <td>Download the best Slot experience for free to...</td>\n",
       "      <td>2</td>\n",
       "    </tr>\n",
       "    <tr>\n",
       "      <th>2</th>\n",
       "      <td>12</td>\n",
       "      <td>Download the best Slot experience for free to...</td>\n",
       "      <td>2</td>\n",
       "    </tr>\n",
       "    <tr>\n",
       "      <th>3</th>\n",
       "      <td>12</td>\n",
       "      <td>Download the best Slot experience for free to...</td>\n",
       "      <td>2</td>\n",
       "    </tr>\n",
       "    <tr>\n",
       "      <th>4</th>\n",
       "      <td>12</td>\n",
       "      <td>Download the best Slot experience for free to...</td>\n",
       "      <td>2</td>\n",
       "    </tr>\n",
       "    <tr>\n",
       "      <th>5</th>\n",
       "      <td>12</td>\n",
       "      <td>Download the best Slot experience for free to...</td>\n",
       "      <td>2</td>\n",
       "    </tr>\n",
       "    <tr>\n",
       "      <th>6</th>\n",
       "      <td>12</td>\n",
       "      <td>Download the best Slot experience for free to...</td>\n",
       "      <td>2</td>\n",
       "    </tr>\n",
       "    <tr>\n",
       "      <th>7</th>\n",
       "      <td>12</td>\n",
       "      <td>Download the best Slot experience for free to...</td>\n",
       "      <td>2</td>\n",
       "    </tr>\n",
       "    <tr>\n",
       "      <th>8</th>\n",
       "      <td>12</td>\n",
       "      <td>Download the best Slot experience for free to...</td>\n",
       "      <td>2</td>\n",
       "    </tr>\n",
       "    <tr>\n",
       "      <th>9</th>\n",
       "      <td>12</td>\n",
       "      <td>Download the best Slot experience for free to...</td>\n",
       "      <td>2</td>\n",
       "    </tr>\n",
       "  </tbody>\n",
       "</table>\n",
       "</div>"
      ],
      "text/plain": [
       "   label                                        description  label_num\n",
       "0     12   Download the best Slot experience for free to...          2\n",
       "1     12   Download the best Slot experience for free to...          2\n",
       "2     12   Download the best Slot experience for free to...          2\n",
       "3     12   Download the best Slot experience for free to...          2\n",
       "4     12   Download the best Slot experience for free to...          2\n",
       "5     12   Download the best Slot experience for free to...          2\n",
       "6     12   Download the best Slot experience for free to...          2\n",
       "7     12   Download the best Slot experience for free to...          2\n",
       "8     12   Download the best Slot experience for free to...          2\n",
       "9     12   Download the best Slot experience for free to...          2"
      ]
     },
     "execution_count": 5,
     "metadata": {},
     "output_type": "execute_result"
    }
   ],
   "source": [
    "# check that the conversion worked\n",
    "#df.head(10)"
   ]
  },
  {
   "cell_type": "code",
   "execution_count": 6,
   "metadata": {
    "collapsed": false
   },
   "outputs": [
    {
     "name": "stdout",
     "output_type": "stream",
     "text": [
      "(44840,)\n",
      "(44840,)\n"
     ]
    }
   ],
   "source": [
    "X = df.description\n",
    "y = df.label_num\n",
    "print(X.shape)\n",
    "print(y.shape)"
   ]
  },
  {
   "cell_type": "code",
   "execution_count": 7,
   "metadata": {
    "collapsed": false
   },
   "outputs": [
    {
     "name": "stdout",
     "output_type": "stream",
     "text": [
      "(33630,)\n",
      "(11210,)\n",
      "(33630,)\n",
      "(11210,)\n"
     ]
    },
    {
     "name": "stderr",
     "output_type": "stream",
     "text": [
      "C:\\Program Files\\Anaconda3\\lib\\site-packages\\sklearn\\cross_validation.py:44: DeprecationWarning: This module was deprecated in version 0.18 in favor of the model_selection module into which all the refactored classes and functions are moved. Also note that the interface of the new CV iterators are different from that of this module. This module will be removed in 0.20.\n",
      "  \"This module will be removed in 0.20.\", DeprecationWarning)\n"
     ]
    }
   ],
   "source": [
    "# split X and y into training and testing sets\n",
    "from sklearn.cross_validation import train_test_split\n",
    "X_train, X_test, y_train, y_test = train_test_split(X, y, random_state=1)\n",
    "print(X_train.shape)\n",
    "print(X_test.shape)\n",
    "print(y_train.shape)\n",
    "print(y_test.shape)"
   ]
  },
  {
   "cell_type": "markdown",
   "metadata": {},
   "source": [
    "## Vectorizing the dataset"
   ]
  },
  {
   "cell_type": "code",
   "execution_count": 8,
   "metadata": {
    "collapsed": false
   },
   "outputs": [],
   "source": [
    "# instantiate the vectorizer and remove stop words \n",
    "# include only 1-gram and 2-grams \n",
    "# ignore terms that apear in more than 50% of the documents\n",
    "# only keep terms that appear in at least 2 documents\n",
    "from sklearn.feature_extraction.text import CountVectorizer\n",
    "vect = CountVectorizer(stop_words='english',ngram_range=(1,2),max_df=0.5,min_df=2)"
   ]
  },
  {
   "cell_type": "code",
   "execution_count": 9,
   "metadata": {
    "collapsed": true
   },
   "outputs": [],
   "source": [
    "# fit and transform\n",
    "X_train_dtm = vect.fit_transform(X_train)"
   ]
  },
  {
   "cell_type": "code",
   "execution_count": 10,
   "metadata": {
    "collapsed": false
   },
   "outputs": [
    {
     "data": {
      "text/plain": [
       "<33630x346189 sparse matrix of type '<class 'numpy.int64'>'\n",
       "\twith 3552116 stored elements in Compressed Sparse Row format>"
      ]
     },
     "execution_count": 10,
     "metadata": {},
     "output_type": "execute_result"
    }
   ],
   "source": [
    "# examine the document-term matrix\n",
    "X_train_dtm"
   ]
  },
  {
   "cell_type": "code",
   "execution_count": 11,
   "metadata": {
    "collapsed": false
   },
   "outputs": [
    {
     "data": {
      "text/plain": [
       "<11210x346189 sparse matrix of type '<class 'numpy.int64'>'\n",
       "\twith 1075118 stored elements in Compressed Sparse Row format>"
      ]
     },
     "execution_count": 11,
     "metadata": {},
     "output_type": "execute_result"
    }
   ],
   "source": [
    "# transform testing data into a document-term matrix\n",
    "X_test_dtm = vect.transform(X_test.values.astype('U'))\n",
    "X_test_dtm"
   ]
  },
  {
   "cell_type": "markdown",
   "metadata": {},
   "source": [
    "## Building and evaluating a model (Naive Bayes)"
   ]
  },
  {
   "cell_type": "code",
   "execution_count": 12,
   "metadata": {
    "collapsed": true
   },
   "outputs": [],
   "source": [
    "# import and instantiate a Multinomial Naive Bayes model\n",
    "from sklearn.naive_bayes import MultinomialNB\n",
    "nb = MultinomialNB()"
   ]
  },
  {
   "cell_type": "code",
   "execution_count": 13,
   "metadata": {
    "collapsed": false
   },
   "outputs": [
    {
     "name": "stdout",
     "output_type": "stream",
     "text": [
      "Wall time: 153 ms\n"
     ]
    },
    {
     "data": {
      "text/plain": [
       "MultinomialNB(alpha=1.0, class_prior=None, fit_prior=True)"
      ]
     },
     "execution_count": 13,
     "metadata": {},
     "output_type": "execute_result"
    }
   ],
   "source": [
    "# train the model using X_train_dtm \n",
    "%time nb.fit(X_train_dtm, y_train)"
   ]
  },
  {
   "cell_type": "code",
   "execution_count": 14,
   "metadata": {
    "collapsed": false
   },
   "outputs": [],
   "source": [
    "# make class predictions for X_test_dtm\n",
    "y_pred_class = nb.predict(X_test_dtm)"
   ]
  },
  {
   "cell_type": "code",
   "execution_count": 15,
   "metadata": {
    "collapsed": false
   },
   "outputs": [
    {
     "data": {
      "text/plain": [
       "0.84317573595004458"
      ]
     },
     "execution_count": 15,
     "metadata": {},
     "output_type": "execute_result"
    }
   ],
   "source": [
    "# calculate accuracy of class predictions\n",
    "from sklearn import metrics\n",
    "metrics.accuracy_score(y_test, y_pred_class)"
   ]
  },
  {
   "cell_type": "code",
   "execution_count": 16,
   "metadata": {
    "collapsed": false
   },
   "outputs": [
    {
     "data": {
      "text/plain": [
       "array([[7540,  222,   53,   40],\n",
       "       [ 499,  333,   24,   12],\n",
       "       [ 351,  185, 1426,   62],\n",
       "       [ 145,   36,  129,  153]])"
      ]
     },
     "execution_count": 16,
     "metadata": {},
     "output_type": "execute_result"
    }
   ],
   "source": [
    "# print the confusion matrix\n",
    "metrics.confusion_matrix(y_test, y_pred_class)"
   ]
  },
  {
   "cell_type": "code",
   "execution_count": 17,
   "metadata": {
    "collapsed": false
   },
   "outputs": [
    {
     "data": {
      "text/plain": [
       "42600     #1 Iron Maiden Trivia!!! Iron Maiden is the #...\n",
       "10638    FULL VERSION, WITHOUT ADS!It's time to build y...\n",
       "10904     Battle for Galaxy has begun! Galaxy Empire Wa...\n",
       "30855     Its the battle of the Presidents to be  Trump...\n",
       "35632     Tank Hero Classic: The ultimate tank battle.F...\n",
       "36946     Be a Angry Snow Fox and attack Animals in thi...\n",
       "12928     Halloween edition of Fortress Defense.Hallows...\n",
       "35579    Bomb enemy tanks with cool weapons such as ray...\n",
       "35492    Tank Battle Go! is an action game you into qui...\n",
       "43986     All markers are available for free on http://...\n",
       "28626     Black-eyed, chubby-figured, short-limbed...An...\n",
       "10567     Now its your chance to defend your planet and...\n",
       "35719     \"Tank fire\" with tanks for the protagonist, t...\n",
       "24674     A big spaceship fleet is attacking you.\"A one...\n",
       "35986     UFO Space is an addicting 2D space shooter, s...\n",
       "40210     WARLOCK WOODS is a new, simple to play tower ...\n",
       "44531     Can you help Milton, the resident town Zombie...\n",
       "11959     Pandora: First Contact is a science fiction 4...\n",
       "38188     Vangard Starfight! A retro, arcade shooting g...\n",
       "36203     *** Tank up! *** Ultimate Battle Tank Shootin...\n",
       "8948     Spaceships are fun to pilot, and there's nothi...\n",
       "17718     Its time to take a walk on the wild side with...\n",
       "33060     Samurai Ninja Angel Vs Zombies is one of the ...\n",
       "39845    The war has begun!In War Chopper you're on a m...\n",
       "4968     Camp Catalog show you all monsters with their ...\n",
       "35412    Remember the Battle City on NES? I believe tha...\n",
       "9772      You are Falcon Raider, the pilot of a jet fig...\n",
       "5939      Can you survive the journey through Dark Fore...\n",
       "20907     World\\'s first Isometric Endless Survival Hor...\n",
       "10093     Catch the Falling Hearts with your basket bef...\n",
       "                               ...                        \n",
       "24889     Help Peekek !, an alien with a mission to abd...\n",
       "37016     In this fast paced ninja game, your goal is t...\n",
       "18389     Story:At the final stage of anti-invasion.The...\n",
       "16864    TRY OUR JAIL PRISON FINGER KNIFE AGILITY : THE...\n",
       "26702     Svenson and Johansen, two of the best pilots ...\n",
       "40046     Evening officer! We need you to bomb the enem...\n",
       "40383     JOIN THE Galaxy of WARS IN THEIR BIGGEST ADVE...\n",
       "41629     XON is a puzzle adventure game inspired by ga...\n",
       "22627     Three brave heroes are ready fight the evil i...\n",
       "39868        Play War with friends with War for iMessage!'\n",
       "32421     Safari Off-Road is all about adventure thats ...\n",
       "8564      It is big, it flies 2000 mph/h  and you are i...\n",
       "4097      Discover the legendary \"Cadwallon: City of Th...\n",
       "16025     Plague! Outbreaks! Heroism! Tapping! Can you ...\n",
       "17330     Attention all Jedi movie fans! Come and check...\n",
       "43653     Zeus Merman Shark AttackEscape from hungry sh...\n",
       "31461    Strategy. War. Victory.Can you see fire in the...\n",
       "43619     The evil Zetron virus has landed on Earth, an...\n",
       "16244    An immersive and thrilling adventure on the tr...\n",
       "40819     Water Fight is an action rpg like no other; e...\n",
       "10459     No in-app purchases, pay once, play forever!A...\n",
       "39234    W.E.L.D.E.R. | SWAPWord welding just got more ...\n",
       "25306     Ocean divers always face many risks and dange...\n",
       "10584     Galaxy Blasting is a space shooter game. Trav...\n",
       "35893    The Ultra Fighting Bros have company in UFB 2!...\n",
       "23953     New Animal Narwhal Evolution!!!One day, some ...\n",
       "31389     Raft and roll is a fast pace action game fill...\n",
       "36054     intenseaction-packedultra-awesomesuper-coolmi...\n",
       "26325    You are about to take on the most thrilling dr...\n",
       "37095     NOTE: This game is optimized for iPhone 5 or ...\n",
       "Name: description, dtype: object"
      ]
     },
     "execution_count": 17,
     "metadata": {},
     "output_type": "execute_result"
    }
   ],
   "source": [
    "# print message text for the false positives\n",
    "X_test[(y_pred_class==1)&(y_test==0)]"
   ]
  },
  {
   "cell_type": "code",
   "execution_count": 18,
   "metadata": {
    "collapsed": false,
    "scrolled": true
   },
   "outputs": [
    {
     "data": {
      "text/plain": [
       "8236     Egg Mania is a simple yet entertaining game de...\n",
       "39530     The goal - to drop the bricks on the wall cra...\n",
       "11014     Der Mega-Tippspa in der grten Community!Mit G...\n",
       "25054     O Patriota: Detonando a EsquerdaJogo de polti...\n",
       "35560     In Tank Cavalry - Panzer Destroyer, you are a...\n",
       "39402     Explore an amazing world with the power of yo...\n",
       "6689      Experience an epic RPG adventure in the palm ...\n",
       "43380     Get the complete version: https://itunes.appl...\n",
       "33075     Duel type game. Defeat your enemies in mediev...\n",
       "13225     Hello girls!! If you are crazy about horror c...\n",
       "32868    WARNING  Large herd of Samara Morgan is attack...\n",
       "41639     A more challenging version of Tic TAC Toe! Pr...\n",
       "41239     Use Xbox 360 SmartGlass to enhance your enter...\n",
       "31956     Be the Almighty Gem Mover in this addictive M...\n",
       "22428     BECOME THE LEADER OF YOUR OWN MAFIAThe battle...\n",
       "25718     The strangely moving tale of a small oden car...\n",
       "44222     Few Steps before you Enjoy a new immersive Au...\n",
       "6873      Eagle Wings - Flappy style adventure , with  ...\n",
       "16077    Much more mature approach to dungeon-crawling ...\n",
       "22073     In \"Mad Shot\" you will experience a simulatio...\n",
       "26832    Go back in time and play pachinko of the 1940s...\n",
       "40526     Command your army to find the best tower defe...\n",
       "42461    Dice Tower's Game of the Year, Tom Vasel, 2010...\n",
       "2742      Childrens worst nightmare is getting an injec...\n",
       "2093     Baal's Revenge HD! is an arcade puzzle game re...\n",
       "36847     This is a great app for anyone to boost their...\n",
       "43077     Can you beat this? Not likely.Yuz is a mathem...\n",
       "39259     Use your slingshot to shoot the firecrackers ...\n",
       "7565      This is a simple game, but it can be very ver...\n",
       "28713     *** Featured on the App Store New & Noteworth...\n",
       "                               ...                        \n",
       "22257     **HOW TO PLAY** Use the Gyroscope and tilt th...\n",
       "41737     --- NO INTERNET CONNECTION IS REQUIRED! -----...\n",
       "16769    Jacks Twos and Eights is a very popular card g...\n",
       "20937     This game is for Virtual Reality devices like...\n",
       "20474     ***** LAS VEGAS PINUP CASINO SLOT - The Most ...\n",
       "34621     There are serval different new ideas Pinball ...\n",
       "42380    Pixel art dynamic action-platformer. The blood...\n",
       "38752     Welcome To Mega Fruits & Vegas Slot Machine A...\n",
       "22831     Take control of the dragon, jump from car to ...\n",
       "14093    Hey little friend do you want to become a hand...\n",
       "22798     Follow Alice as she falls down the rabbits ho...\n",
       "34680     Take My Machete is an arcade beat\\'em\\'up act...\n",
       "16022     Game Features:24/7 BattleEven when you log ou...\n",
       "14708    Snowclown is GROTESQUE,Snowclown is RUTHLESS,S...\n",
       "29021     The classic word game of Hangman now availabl...\n",
       "31453    Jump, Run, Shoot and Bounce your way through t...\n",
       "30776     We bring the best Virtual dog racing experien...\n",
       "13111     Help Killer Clown to survive in order to keep...\n",
       "18411     \\'Kana Bimoji\" is an application to train use...\n",
       "17279     Hraj tri jednoduch hry lenov KF. Duchci svoje...\n",
       "35733     Defeat the enemy combat vehicles, capture the...\n",
       "21361     Try the new community casual game on Iphone a...\n",
       "40175     Wargasm Bros. Take part of this adventure, ch...\n",
       "44286    Picture this ... you're a zombie and you're on...\n",
       "13500     Make your Halloween creepier with Halloween S...\n",
       "36448    The original CS Guns app, now available for iP...\n",
       "2132     You are God! From high above in the sky, it ap...\n",
       "37266    More than 10,000 puzzles for you to playDo you...\n",
       "12284     *Winner of the XYZZY Interactive Fiction Awar...\n",
       "43735     Zigzag your way through an endless winding pa...\n",
       "Name: description, dtype: object"
      ]
     },
     "execution_count": 18,
     "metadata": {},
     "output_type": "execute_result"
    }
   ],
   "source": [
    "# print message text for the false negatives\n",
    "X_test[y_pred_class < y_test]"
   ]
  },
  {
   "cell_type": "code",
   "execution_count": 18,
   "metadata": {
    "collapsed": false
   },
   "outputs": [
    {
     "data": {
      "text/plain": [
       "array([[  1.00000000e+000,   2.88113750e-018,   4.87381507e-024,\n",
       "          3.54659276e-021],\n",
       "       [  1.00000000e+000,   7.10281237e-038,   2.52571439e-065,\n",
       "          3.87059211e-064],\n",
       "       [  1.69525606e-107,   1.00000000e+000,   4.08408217e-109,\n",
       "          8.21348608e-140],\n",
       "       ..., \n",
       "       [  0.00000000e+000,   0.00000000e+000,   1.00000000e+000,\n",
       "          4.55103395e-214],\n",
       "       [  1.00000000e+000,   1.61227874e-015,   1.81563981e-024,\n",
       "          5.59025042e-026],\n",
       "       [  1.00000000e+000,   1.38205699e-056,   1.40769380e-086,\n",
       "          3.19026087e-043]])"
      ]
     },
     "execution_count": 18,
     "metadata": {},
     "output_type": "execute_result"
    }
   ],
   "source": [
    "nb.predict_proba(X_test_dtm)"
   ]
  },
  {
   "cell_type": "code",
   "execution_count": 19,
   "metadata": {
    "collapsed": false
   },
   "outputs": [
    {
     "data": {
      "text/plain": [
       "array([[  1.00000000e+000,   2.88113750e-018,   4.87381507e-024,\n",
       "          3.54659276e-021],\n",
       "       [  1.00000000e+000,   7.10281237e-038,   2.52571439e-065,\n",
       "          3.87059211e-064],\n",
       "       [  1.69525606e-107,   1.00000000e+000,   4.08408217e-109,\n",
       "          8.21348608e-140],\n",
       "       ..., \n",
       "       [  0.00000000e+000,   0.00000000e+000,   1.00000000e+000,\n",
       "          4.55103395e-214],\n",
       "       [  1.00000000e+000,   1.61227874e-015,   1.81563981e-024,\n",
       "          5.59025042e-026],\n",
       "       [  1.00000000e+000,   1.38205699e-056,   1.40769380e-086,\n",
       "          3.19026087e-043]])"
      ]
     },
     "execution_count": 19,
     "metadata": {},
     "output_type": "execute_result"
    }
   ],
   "source": [
    "# calculate predicted probabilities for X_test_dtm\n",
    "y_pred_prob = nb.predict_proba(X_test_dtm)\n",
    "y_pred_prob"
   ]
  },
  {
   "cell_type": "code",
   "execution_count": 20,
   "metadata": {
    "collapsed": false
   },
   "outputs": [],
   "source": [
    "# AUC curve function not applicable"
   ]
  },
  {
   "cell_type": "markdown",
   "metadata": {},
   "source": [
    "## Logistic regression"
   ]
  },
  {
   "cell_type": "code",
   "execution_count": 21,
   "metadata": {
    "collapsed": true
   },
   "outputs": [],
   "source": [
    "# import and instantiate a logistic regression model\n",
    "from sklearn.linear_model import LogisticRegression \n",
    "logreg = LogisticRegression()"
   ]
  },
  {
   "cell_type": "code",
   "execution_count": 22,
   "metadata": {
    "collapsed": false
   },
   "outputs": [
    {
     "name": "stdout",
     "output_type": "stream",
     "text": [
      "Wall time: 54.6 s\n"
     ]
    },
    {
     "data": {
      "text/plain": [
       "LogisticRegression(C=1.0, class_weight=None, dual=False, fit_intercept=True,\n",
       "          intercept_scaling=1, max_iter=100, multi_class='ovr', n_jobs=1,\n",
       "          penalty='l2', random_state=None, solver='liblinear', tol=0.0001,\n",
       "          verbose=0, warm_start=False)"
      ]
     },
     "execution_count": 22,
     "metadata": {},
     "output_type": "execute_result"
    }
   ],
   "source": [
    "# train the model using X_train_dtm\n",
    "%time logreg.fit(X_train_dtm, y_train)"
   ]
  },
  {
   "cell_type": "code",
   "execution_count": 23,
   "metadata": {
    "collapsed": true
   },
   "outputs": [],
   "source": [
    "# make class predictions for X_test_dtm\n",
    "y_pred_class = logreg.predict(X_test_dtm)"
   ]
  },
  {
   "cell_type": "code",
   "execution_count": 24,
   "metadata": {
    "collapsed": false
   },
   "outputs": [
    {
     "data": {
      "text/plain": [
       "array([[  9.90372330e-01,   3.90616299e-03,   2.72871271e-03,\n",
       "          2.99279391e-03],\n",
       "       [  9.99653760e-01,   3.31956864e-04,   9.51675464e-06,\n",
       "          4.76636444e-06],\n",
       "       [  1.71223195e-02,   9.06308119e-01,   7.65681852e-02,\n",
       "          1.37625207e-06],\n",
       "       ..., \n",
       "       [  1.11287984e-14,   8.74415356e-16,   9.99829927e-01,\n",
       "          1.70073001e-04],\n",
       "       [  9.98733197e-01,   3.35495298e-05,   1.02210923e-04,\n",
       "          1.13104276e-03],\n",
       "       [  9.93369558e-01,   4.75501380e-03,   1.65050958e-04,\n",
       "          1.71037767e-03]])"
      ]
     },
     "execution_count": 24,
     "metadata": {},
     "output_type": "execute_result"
    }
   ],
   "source": [
    "# calculate predicted probabilities for X_test_dtm\n",
    "y_pred_prob = logreg.predict_proba(X_test_dtm)\n",
    "y_pred_prob"
   ]
  },
  {
   "cell_type": "code",
   "execution_count": 25,
   "metadata": {
    "collapsed": false
   },
   "outputs": [
    {
     "data": {
      "text/plain": [
       "0.86048171275646745"
      ]
     },
     "execution_count": 25,
     "metadata": {},
     "output_type": "execute_result"
    }
   ],
   "source": [
    "# calculate accuracy\n",
    "metrics.accuracy_score(y_test, y_pred_class)"
   ]
  },
  {
   "cell_type": "code",
   "execution_count": 26,
   "metadata": {
    "collapsed": false
   },
   "outputs": [
    {
     "data": {
      "text/plain": [
       "array([[7612,  120,  109,   14],\n",
       "       [ 478,  308,   71,   11],\n",
       "       [ 318,  108, 1537,   61],\n",
       "       [ 141,   19,  114,  189]])"
      ]
     },
     "execution_count": 26,
     "metadata": {},
     "output_type": "execute_result"
    }
   ],
   "source": [
    "# print the confusion matrix\n",
    "metrics.confusion_matrix(y_test, y_pred_class)"
   ]
  },
  {
   "cell_type": "markdown",
   "metadata": {},
   "source": [
    "## Examing the \"tokens\""
   ]
  },
  {
   "cell_type": "code",
   "execution_count": 27,
   "metadata": {
    "collapsed": false
   },
   "outputs": [
    {
     "data": {
      "text/plain": [
       "346189"
      ]
     },
     "execution_count": 27,
     "metadata": {},
     "output_type": "execute_result"
    }
   ],
   "source": [
    "# store the vocabulary of X_train\n",
    "X_train_tokens = vect.get_feature_names()\n",
    "len(X_train_tokens)"
   ]
  },
  {
   "cell_type": "code",
   "execution_count": 28,
   "metadata": {
    "collapsed": true
   },
   "outputs": [],
   "source": [
    "# number of times each token appears across all 4 years old apps\n",
    "four_token_count = nb.feature_count_[0,:]"
   ]
  },
  {
   "cell_type": "code",
   "execution_count": 29,
   "metadata": {
    "collapsed": true
   },
   "outputs": [],
   "source": [
    "# number of times each token appears across all 9 years old apps\n",
    "nine_token_count = nb.feature_count_[1,:]"
   ]
  },
  {
   "cell_type": "code",
   "execution_count": 30,
   "metadata": {
    "collapsed": true
   },
   "outputs": [],
   "source": [
    "# number of times each token appears across all 12 years old apps\n",
    "twelve_token_count = nb.feature_count_[2,:]"
   ]
  },
  {
   "cell_type": "code",
   "execution_count": 31,
   "metadata": {
    "collapsed": true
   },
   "outputs": [],
   "source": [
    "# number of times each token appears across all 17 years old apps\n",
    "seventeen_token_count = nb.feature_count_[3,:]"
   ]
  },
  {
   "cell_type": "code",
   "execution_count": 32,
   "metadata": {
    "collapsed": false,
    "scrolled": true
   },
   "outputs": [],
   "source": [
    "tokens = pd.DataFrame({'token':X_train_tokens,'four':four_token_count,\n",
    "                      'nine':nine_token_count, \n",
    "                      'twelve':twelve_token_count,\n",
    "                      'seventeen':seventeen_token_count})"
   ]
  },
  {
   "cell_type": "code",
   "execution_count": 33,
   "metadata": {
    "collapsed": false
   },
   "outputs": [
    {
     "data": {
      "text/html": [
       "<div>\n",
       "<table border=\"1\" class=\"dataframe\">\n",
       "  <thead>\n",
       "    <tr style=\"text-align: right;\">\n",
       "      <th></th>\n",
       "      <th>four</th>\n",
       "      <th>nine</th>\n",
       "      <th>seventeen</th>\n",
       "      <th>token</th>\n",
       "      <th>twelve</th>\n",
       "    </tr>\n",
       "  </thead>\n",
       "  <tbody>\n",
       "    <tr>\n",
       "      <th>0</th>\n",
       "      <td>52.0</td>\n",
       "      <td>3.0</td>\n",
       "      <td>3.0</td>\n",
       "      <td>00</td>\n",
       "      <td>9.0</td>\n",
       "    </tr>\n",
       "    <tr>\n",
       "      <th>1</th>\n",
       "      <td>15.0</td>\n",
       "      <td>0.0</td>\n",
       "      <td>0.0</td>\n",
       "      <td>00 00</td>\n",
       "      <td>1.0</td>\n",
       "    </tr>\n",
       "    <tr>\n",
       "      <th>2</th>\n",
       "      <td>4.0</td>\n",
       "      <td>0.0</td>\n",
       "      <td>2.0</td>\n",
       "      <td>00 000</td>\n",
       "      <td>4.0</td>\n",
       "    </tr>\n",
       "    <tr>\n",
       "      <th>3</th>\n",
       "      <td>2.0</td>\n",
       "      <td>0.0</td>\n",
       "      <td>0.0</td>\n",
       "      <td>00 limited</td>\n",
       "      <td>0.0</td>\n",
       "    </tr>\n",
       "    <tr>\n",
       "      <th>4</th>\n",
       "      <td>6.0</td>\n",
       "      <td>0.0</td>\n",
       "      <td>0.0</td>\n",
       "      <td>00 nov</td>\n",
       "      <td>0.0</td>\n",
       "    </tr>\n",
       "    <tr>\n",
       "      <th>5</th>\n",
       "      <td>2.0</td>\n",
       "      <td>0.0</td>\n",
       "      <td>0.0</td>\n",
       "      <td>00 oct</td>\n",
       "      <td>0.0</td>\n",
       "    </tr>\n",
       "    <tr>\n",
       "      <th>6</th>\n",
       "      <td>283.0</td>\n",
       "      <td>39.0</td>\n",
       "      <td>48.0</td>\n",
       "      <td>000</td>\n",
       "      <td>268.0</td>\n",
       "    </tr>\n",
       "    <tr>\n",
       "      <th>7</th>\n",
       "      <td>32.0</td>\n",
       "      <td>6.0</td>\n",
       "      <td>10.0</td>\n",
       "      <td>000 000</td>\n",
       "      <td>41.0</td>\n",
       "    </tr>\n",
       "    <tr>\n",
       "      <th>8</th>\n",
       "      <td>1.0</td>\n",
       "      <td>0.0</td>\n",
       "      <td>0.0</td>\n",
       "      <td>000 10</td>\n",
       "      <td>5.0</td>\n",
       "    </tr>\n",
       "    <tr>\n",
       "      <th>9</th>\n",
       "      <td>2.0</td>\n",
       "      <td>0.0</td>\n",
       "      <td>0.0</td>\n",
       "      <td>000 app</td>\n",
       "      <td>0.0</td>\n",
       "    </tr>\n",
       "    <tr>\n",
       "      <th>10</th>\n",
       "      <td>0.0</td>\n",
       "      <td>1.0</td>\n",
       "      <td>0.0</td>\n",
       "      <td>000 armageddon</td>\n",
       "      <td>1.0</td>\n",
       "    </tr>\n",
       "    <tr>\n",
       "      <th>11</th>\n",
       "      <td>2.0</td>\n",
       "      <td>0.0</td>\n",
       "      <td>0.0</td>\n",
       "      <td>000 bonus</td>\n",
       "      <td>1.0</td>\n",
       "    </tr>\n",
       "    <tr>\n",
       "      <th>12</th>\n",
       "      <td>1.0</td>\n",
       "      <td>1.0</td>\n",
       "      <td>0.0</td>\n",
       "      <td>000 cards</td>\n",
       "      <td>0.0</td>\n",
       "    </tr>\n",
       "    <tr>\n",
       "      <th>13</th>\n",
       "      <td>1.0</td>\n",
       "      <td>1.0</td>\n",
       "      <td>0.0</td>\n",
       "      <td>000 challenging</td>\n",
       "      <td>1.0</td>\n",
       "    </tr>\n",
       "    <tr>\n",
       "      <th>14</th>\n",
       "      <td>1.0</td>\n",
       "      <td>1.0</td>\n",
       "      <td>0.0</td>\n",
       "      <td>000 characters</td>\n",
       "      <td>1.0</td>\n",
       "    </tr>\n",
       "    <tr>\n",
       "      <th>15</th>\n",
       "      <td>0.0</td>\n",
       "      <td>0.0</td>\n",
       "      <td>1.0</td>\n",
       "      <td>000 chips</td>\n",
       "      <td>1.0</td>\n",
       "    </tr>\n",
       "    <tr>\n",
       "      <th>16</th>\n",
       "      <td>0.0</td>\n",
       "      <td>0.0</td>\n",
       "      <td>2.0</td>\n",
       "      <td>000 coin</td>\n",
       "      <td>4.0</td>\n",
       "    </tr>\n",
       "    <tr>\n",
       "      <th>17</th>\n",
       "      <td>4.0</td>\n",
       "      <td>3.0</td>\n",
       "      <td>5.0</td>\n",
       "      <td>000 coins</td>\n",
       "      <td>78.0</td>\n",
       "    </tr>\n",
       "    <tr>\n",
       "      <th>18</th>\n",
       "      <td>3.0</td>\n",
       "      <td>0.0</td>\n",
       "      <td>0.0</td>\n",
       "      <td>000 colors</td>\n",
       "      <td>0.0</td>\n",
       "    </tr>\n",
       "    <tr>\n",
       "      <th>19</th>\n",
       "      <td>3.0</td>\n",
       "      <td>0.0</td>\n",
       "      <td>0.0</td>\n",
       "      <td>000 combinations</td>\n",
       "      <td>1.0</td>\n",
       "    </tr>\n",
       "    <tr>\n",
       "      <th>20</th>\n",
       "      <td>0.0</td>\n",
       "      <td>0.0</td>\n",
       "      <td>0.0</td>\n",
       "      <td>000 copies</td>\n",
       "      <td>2.0</td>\n",
       "    </tr>\n",
       "    <tr>\n",
       "      <th>21</th>\n",
       "      <td>0.0</td>\n",
       "      <td>0.0</td>\n",
       "      <td>0.0</td>\n",
       "      <td>000 credits</td>\n",
       "      <td>3.0</td>\n",
       "    </tr>\n",
       "    <tr>\n",
       "      <th>22</th>\n",
       "      <td>2.0</td>\n",
       "      <td>0.0</td>\n",
       "      <td>0.0</td>\n",
       "      <td>000 device</td>\n",
       "      <td>1.0</td>\n",
       "    </tr>\n",
       "    <tr>\n",
       "      <th>23</th>\n",
       "      <td>3.0</td>\n",
       "      <td>1.0</td>\n",
       "      <td>0.0</td>\n",
       "      <td>000 different</td>\n",
       "      <td>1.0</td>\n",
       "    </tr>\n",
       "    <tr>\n",
       "      <th>24</th>\n",
       "      <td>29.0</td>\n",
       "      <td>5.0</td>\n",
       "      <td>0.0</td>\n",
       "      <td>000 downloads</td>\n",
       "      <td>7.0</td>\n",
       "    </tr>\n",
       "    <tr>\n",
       "      <th>25</th>\n",
       "      <td>4.0</td>\n",
       "      <td>0.0</td>\n",
       "      <td>0.0</td>\n",
       "      <td>000 english</td>\n",
       "      <td>0.0</td>\n",
       "    </tr>\n",
       "    <tr>\n",
       "      <th>26</th>\n",
       "      <td>0.0</td>\n",
       "      <td>0.0</td>\n",
       "      <td>1.0</td>\n",
       "      <td>000 enhanced</td>\n",
       "      <td>2.0</td>\n",
       "    </tr>\n",
       "    <tr>\n",
       "      <th>27</th>\n",
       "      <td>2.0</td>\n",
       "      <td>0.0</td>\n",
       "      <td>0.0</td>\n",
       "      <td>000 enjoy</td>\n",
       "      <td>0.0</td>\n",
       "    </tr>\n",
       "    <tr>\n",
       "      <th>28</th>\n",
       "      <td>3.0</td>\n",
       "      <td>1.0</td>\n",
       "      <td>0.0</td>\n",
       "      <td>000 feet</td>\n",
       "      <td>1.0</td>\n",
       "    </tr>\n",
       "    <tr>\n",
       "      <th>29</th>\n",
       "      <td>1.0</td>\n",
       "      <td>0.0</td>\n",
       "      <td>1.0</td>\n",
       "      <td>000 fragen</td>\n",
       "      <td>0.0</td>\n",
       "    </tr>\n",
       "    <tr>\n",
       "      <th>...</th>\n",
       "      <td>...</td>\n",
       "      <td>...</td>\n",
       "      <td>...</td>\n",
       "      <td>...</td>\n",
       "      <td>...</td>\n",
       "    </tr>\n",
       "    <tr>\n",
       "      <th>346159</th>\n",
       "      <td>6.0</td>\n",
       "      <td>0.0</td>\n",
       "      <td>0.0</td>\n",
       "      <td>zuuks</td>\n",
       "      <td>1.0</td>\n",
       "    </tr>\n",
       "    <tr>\n",
       "      <th>346160</th>\n",
       "      <td>2.0</td>\n",
       "      <td>0.0</td>\n",
       "      <td>0.0</td>\n",
       "      <td>zuuks com</td>\n",
       "      <td>1.0</td>\n",
       "    </tr>\n",
       "    <tr>\n",
       "      <th>346161</th>\n",
       "      <td>2.0</td>\n",
       "      <td>0.0</td>\n",
       "      <td>0.0</td>\n",
       "      <td>zuuks comfollow</td>\n",
       "      <td>0.0</td>\n",
       "    </tr>\n",
       "    <tr>\n",
       "      <th>346162</th>\n",
       "      <td>2.0</td>\n",
       "      <td>0.0</td>\n",
       "      <td>0.0</td>\n",
       "      <td>zuuks gamesfollow</td>\n",
       "      <td>0.0</td>\n",
       "    </tr>\n",
       "    <tr>\n",
       "      <th>346163</th>\n",
       "      <td>2.0</td>\n",
       "      <td>0.0</td>\n",
       "      <td>0.0</td>\n",
       "      <td>zuuksgames</td>\n",
       "      <td>0.0</td>\n",
       "    </tr>\n",
       "    <tr>\n",
       "      <th>346164</th>\n",
       "      <td>2.0</td>\n",
       "      <td>0.0</td>\n",
       "      <td>0.0</td>\n",
       "      <td>zvata</td>\n",
       "      <td>0.0</td>\n",
       "    </tr>\n",
       "    <tr>\n",
       "      <th>346165</th>\n",
       "      <td>4.0</td>\n",
       "      <td>0.0</td>\n",
       "      <td>0.0</td>\n",
       "      <td>zvtka</td>\n",
       "      <td>0.0</td>\n",
       "    </tr>\n",
       "    <tr>\n",
       "      <th>346166</th>\n",
       "      <td>3.0</td>\n",
       "      <td>1.0</td>\n",
       "      <td>0.0</td>\n",
       "      <td>zvuky</td>\n",
       "      <td>0.0</td>\n",
       "    </tr>\n",
       "    <tr>\n",
       "      <th>346167</th>\n",
       "      <td>1.0</td>\n",
       "      <td>0.0</td>\n",
       "      <td>0.0</td>\n",
       "      <td>zwar</td>\n",
       "      <td>3.0</td>\n",
       "    </tr>\n",
       "    <tr>\n",
       "      <th>346168</th>\n",
       "      <td>0.0</td>\n",
       "      <td>0.0</td>\n",
       "      <td>0.0</td>\n",
       "      <td>zwar anfang</td>\n",
       "      <td>2.0</td>\n",
       "    </tr>\n",
       "    <tr>\n",
       "      <th>346169</th>\n",
       "      <td>3.0</td>\n",
       "      <td>0.0</td>\n",
       "      <td>0.0</td>\n",
       "      <td>zwei</td>\n",
       "      <td>4.0</td>\n",
       "    </tr>\n",
       "    <tr>\n",
       "      <th>346170</th>\n",
       "      <td>0.0</td>\n",
       "      <td>0.0</td>\n",
       "      <td>0.0</td>\n",
       "      <td>zweiten</td>\n",
       "      <td>4.0</td>\n",
       "    </tr>\n",
       "    <tr>\n",
       "      <th>346171</th>\n",
       "      <td>0.0</td>\n",
       "      <td>0.0</td>\n",
       "      <td>0.0</td>\n",
       "      <td>zweiten weltkrieg</td>\n",
       "      <td>2.0</td>\n",
       "    </tr>\n",
       "    <tr>\n",
       "      <th>346172</th>\n",
       "      <td>0.0</td>\n",
       "      <td>0.0</td>\n",
       "      <td>0.0</td>\n",
       "      <td>zweiten weltkriegs</td>\n",
       "      <td>2.0</td>\n",
       "    </tr>\n",
       "    <tr>\n",
       "      <th>346173</th>\n",
       "      <td>0.0</td>\n",
       "      <td>0.0</td>\n",
       "      <td>0.0</td>\n",
       "      <td>zweiter</td>\n",
       "      <td>2.0</td>\n",
       "    </tr>\n",
       "    <tr>\n",
       "      <th>346174</th>\n",
       "      <td>0.0</td>\n",
       "      <td>0.0</td>\n",
       "      <td>0.0</td>\n",
       "      <td>zweiter weltkrieg</td>\n",
       "      <td>2.0</td>\n",
       "    </tr>\n",
       "    <tr>\n",
       "      <th>346175</th>\n",
       "      <td>8.0</td>\n",
       "      <td>0.0</td>\n",
       "      <td>0.0</td>\n",
       "      <td>zwierzta</td>\n",
       "      <td>0.0</td>\n",
       "    </tr>\n",
       "    <tr>\n",
       "      <th>346176</th>\n",
       "      <td>7.0</td>\n",
       "      <td>0.0</td>\n",
       "      <td>0.0</td>\n",
       "      <td>zwijsen</td>\n",
       "      <td>0.0</td>\n",
       "    </tr>\n",
       "    <tr>\n",
       "      <th>346177</th>\n",
       "      <td>7.0</td>\n",
       "      <td>0.0</td>\n",
       "      <td>0.0</td>\n",
       "      <td>zwijsen een</td>\n",
       "      <td>0.0</td>\n",
       "    </tr>\n",
       "    <tr>\n",
       "      <th>346178</th>\n",
       "      <td>3.0</td>\n",
       "      <td>0.0</td>\n",
       "      <td>0.0</td>\n",
       "      <td>zwischen</td>\n",
       "      <td>0.0</td>\n",
       "    </tr>\n",
       "    <tr>\n",
       "      <th>346179</th>\n",
       "      <td>1.0</td>\n",
       "      <td>0.0</td>\n",
       "      <td>0.0</td>\n",
       "      <td>zwischendurch</td>\n",
       "      <td>1.0</td>\n",
       "    </tr>\n",
       "    <tr>\n",
       "      <th>346180</th>\n",
       "      <td>4.0</td>\n",
       "      <td>0.0</td>\n",
       "      <td>0.0</td>\n",
       "      <td>zwizane</td>\n",
       "      <td>0.0</td>\n",
       "    </tr>\n",
       "    <tr>\n",
       "      <th>346181</th>\n",
       "      <td>2.0</td>\n",
       "      <td>0.0</td>\n",
       "      <td>0.0</td>\n",
       "      <td>zwizane rymowanie</td>\n",
       "      <td>0.0</td>\n",
       "    </tr>\n",
       "    <tr>\n",
       "      <th>346182</th>\n",
       "      <td>1.0</td>\n",
       "      <td>0.0</td>\n",
       "      <td>0.0</td>\n",
       "      <td>zynga</td>\n",
       "      <td>1.0</td>\n",
       "    </tr>\n",
       "    <tr>\n",
       "      <th>346183</th>\n",
       "      <td>8.0</td>\n",
       "      <td>0.0</td>\n",
       "      <td>0.0</td>\n",
       "      <td>zzed</td>\n",
       "      <td>0.0</td>\n",
       "    </tr>\n",
       "    <tr>\n",
       "      <th>346184</th>\n",
       "      <td>8.0</td>\n",
       "      <td>0.0</td>\n",
       "      <td>0.0</td>\n",
       "      <td>zzed logic</td>\n",
       "      <td>0.0</td>\n",
       "    </tr>\n",
       "    <tr>\n",
       "      <th>346185</th>\n",
       "      <td>0.0</td>\n",
       "      <td>0.0</td>\n",
       "      <td>2.0</td>\n",
       "      <td>zzzzzzzzzzzzzz</td>\n",
       "      <td>0.0</td>\n",
       "    </tr>\n",
       "    <tr>\n",
       "      <th>346186</th>\n",
       "      <td>0.0</td>\n",
       "      <td>0.0</td>\n",
       "      <td>2.0</td>\n",
       "      <td>zzzzzzzzzzzzzz zombie</td>\n",
       "      <td>0.0</td>\n",
       "    </tr>\n",
       "    <tr>\n",
       "      <th>346187</th>\n",
       "      <td>0.0</td>\n",
       "      <td>0.0</td>\n",
       "      <td>2.0</td>\n",
       "      <td>zzzzzzzzzzzzzzzzzzombies</td>\n",
       "      <td>0.0</td>\n",
       "    </tr>\n",
       "    <tr>\n",
       "      <th>346188</th>\n",
       "      <td>0.0</td>\n",
       "      <td>0.0</td>\n",
       "      <td>2.0</td>\n",
       "      <td>zzzzzzzzzzzzzzzzzzombies lose</td>\n",
       "      <td>0.0</td>\n",
       "    </tr>\n",
       "  </tbody>\n",
       "</table>\n",
       "<p>346189 rows × 5 columns</p>\n",
       "</div>"
      ],
      "text/plain": [
       "         four  nine  seventeen                          token  twelve\n",
       "0        52.0   3.0        3.0                             00     9.0\n",
       "1        15.0   0.0        0.0                          00 00     1.0\n",
       "2         4.0   0.0        2.0                         00 000     4.0\n",
       "3         2.0   0.0        0.0                     00 limited     0.0\n",
       "4         6.0   0.0        0.0                         00 nov     0.0\n",
       "5         2.0   0.0        0.0                         00 oct     0.0\n",
       "6       283.0  39.0       48.0                            000   268.0\n",
       "7        32.0   6.0       10.0                        000 000    41.0\n",
       "8         1.0   0.0        0.0                         000 10     5.0\n",
       "9         2.0   0.0        0.0                        000 app     0.0\n",
       "10        0.0   1.0        0.0                 000 armageddon     1.0\n",
       "11        2.0   0.0        0.0                      000 bonus     1.0\n",
       "12        1.0   1.0        0.0                      000 cards     0.0\n",
       "13        1.0   1.0        0.0                000 challenging     1.0\n",
       "14        1.0   1.0        0.0                 000 characters     1.0\n",
       "15        0.0   0.0        1.0                      000 chips     1.0\n",
       "16        0.0   0.0        2.0                       000 coin     4.0\n",
       "17        4.0   3.0        5.0                      000 coins    78.0\n",
       "18        3.0   0.0        0.0                     000 colors     0.0\n",
       "19        3.0   0.0        0.0               000 combinations     1.0\n",
       "20        0.0   0.0        0.0                     000 copies     2.0\n",
       "21        0.0   0.0        0.0                    000 credits     3.0\n",
       "22        2.0   0.0        0.0                     000 device     1.0\n",
       "23        3.0   1.0        0.0                  000 different     1.0\n",
       "24       29.0   5.0        0.0                  000 downloads     7.0\n",
       "25        4.0   0.0        0.0                    000 english     0.0\n",
       "26        0.0   0.0        1.0                   000 enhanced     2.0\n",
       "27        2.0   0.0        0.0                      000 enjoy     0.0\n",
       "28        3.0   1.0        0.0                       000 feet     1.0\n",
       "29        1.0   0.0        1.0                     000 fragen     0.0\n",
       "...       ...   ...        ...                            ...     ...\n",
       "346159    6.0   0.0        0.0                          zuuks     1.0\n",
       "346160    2.0   0.0        0.0                      zuuks com     1.0\n",
       "346161    2.0   0.0        0.0                zuuks comfollow     0.0\n",
       "346162    2.0   0.0        0.0              zuuks gamesfollow     0.0\n",
       "346163    2.0   0.0        0.0                     zuuksgames     0.0\n",
       "346164    2.0   0.0        0.0                          zvata     0.0\n",
       "346165    4.0   0.0        0.0                          zvtka     0.0\n",
       "346166    3.0   1.0        0.0                          zvuky     0.0\n",
       "346167    1.0   0.0        0.0                           zwar     3.0\n",
       "346168    0.0   0.0        0.0                    zwar anfang     2.0\n",
       "346169    3.0   0.0        0.0                           zwei     4.0\n",
       "346170    0.0   0.0        0.0                        zweiten     4.0\n",
       "346171    0.0   0.0        0.0              zweiten weltkrieg     2.0\n",
       "346172    0.0   0.0        0.0             zweiten weltkriegs     2.0\n",
       "346173    0.0   0.0        0.0                        zweiter     2.0\n",
       "346174    0.0   0.0        0.0              zweiter weltkrieg     2.0\n",
       "346175    8.0   0.0        0.0                       zwierzta     0.0\n",
       "346176    7.0   0.0        0.0                        zwijsen     0.0\n",
       "346177    7.0   0.0        0.0                    zwijsen een     0.0\n",
       "346178    3.0   0.0        0.0                       zwischen     0.0\n",
       "346179    1.0   0.0        0.0                  zwischendurch     1.0\n",
       "346180    4.0   0.0        0.0                        zwizane     0.0\n",
       "346181    2.0   0.0        0.0              zwizane rymowanie     0.0\n",
       "346182    1.0   0.0        0.0                          zynga     1.0\n",
       "346183    8.0   0.0        0.0                           zzed     0.0\n",
       "346184    8.0   0.0        0.0                     zzed logic     0.0\n",
       "346185    0.0   0.0        2.0                 zzzzzzzzzzzzzz     0.0\n",
       "346186    0.0   0.0        2.0          zzzzzzzzzzzzzz zombie     0.0\n",
       "346187    0.0   0.0        2.0       zzzzzzzzzzzzzzzzzzombies     0.0\n",
       "346188    0.0   0.0        2.0  zzzzzzzzzzzzzzzzzzombies lose     0.0\n",
       "\n",
       "[346189 rows x 5 columns]"
      ]
     },
     "execution_count": 33,
     "metadata": {},
     "output_type": "execute_result"
    }
   ],
   "source": [
    "tokens.to_csv(\"tokens in different classes.csv\")\n",
    "tokens"
   ]
  },
  {
   "cell_type": "code",
   "execution_count": 34,
   "metadata": {
    "collapsed": false,
    "scrolled": true
   },
   "outputs": [],
   "source": [
    "# derive the high ratio age-four tokens\n",
    "tokens['ratio'] = tokens.four/(tokens.four+tokens.nine+tokens.twelve+tokens.seventeen)\n",
    "age_four_tokens = tokens.sort_values(['ratio','four'],ascending=False)\n",
    "    age_four_tokens.to_csv(\"age_four_tokens.csv\")"
   ]
  },
  {
   "cell_type": "code",
   "execution_count": 35,
   "metadata": {
    "collapsed": true
   },
   "outputs": [],
   "source": [
    "# derive the high ratio age-nine tokens\n",
    "tokens['ratio'] = tokens.nine/(tokens.four+tokens.nine+tokens.twelve+tokens.seventeen)\n",
    "age_nine_tokens = tokens.sort_values(['ratio','nine'],ascending=False)\n",
    "age_nine_tokens.to_csv(\"age_nine_tokens.csv\")"
   ]
  },
  {
   "cell_type": "code",
   "execution_count": 36,
   "metadata": {
    "collapsed": true
   },
   "outputs": [],
   "source": [
    "# derive the high ratio age-twelve tokens\n",
    "tokens['ratio'] = tokens.twelve/(tokens.four+tokens.nine+tokens.twelve+tokens.seventeen)\n",
    "age_twelve_tokens = tokens.sort_values(['ratio','twelve'],ascending=False)\n",
    "age_twelve_tokens.to_csv(\"age_twelve_tokens.csv\")"
   ]
  },
  {
   "cell_type": "code",
   "execution_count": 37,
   "metadata": {
    "collapsed": true
   },
   "outputs": [],
   "source": [
    "# derive the high ratio age-seventeen tokens\n",
    "tokens['ratio'] = tokens.seventeen/(tokens.four+tokens.nine+tokens.twelve+tokens.seventeen)\n",
    "age_seventeen_tokens = tokens.sort_values(['ratio','seventeen'],ascending=False)\n",
    "age_seventeen_tokens.to_csv(\"age_seventeen_tokens.csv\")"
   ]
  }
 ],
 "metadata": {
  "anaconda-cloud": {},
  "kernelspec": {
   "display_name": "Python [default]",
   "language": "python",
   "name": "python3"
  },
  "language_info": {
   "codemirror_mode": {
    "name": "ipython",
    "version": 3
   },
   "file_extension": ".py",
   "mimetype": "text/x-python",
   "name": "python",
   "nbconvert_exporter": "python",
   "pygments_lexer": "ipython3",
   "version": "3.5.2"
  }
 },
 "nbformat": 4,
 "nbformat_minor": 1
}
