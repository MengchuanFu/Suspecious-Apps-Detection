{
 "cells": [
  {
   "cell_type": "markdown",
   "metadata": {},
   "source": [
    "#  Suspecious Apps Detection - 10 Nearest Neighbor Approach "
   ]
  },
  {
   "cell_type": "markdown",
   "metadata": {},
   "source": [
    "<br />Mengchuan (Mike) Fu mfu10@fordham.edu February 2017 (updated 3/30/2017)<br /><br />\n",
    "For the Mobile Safety Research<br /><br />"
   ]
  },
  {
   "cell_type": "markdown",
   "metadata": {},
   "source": [
    "## Objective"
   ]
  },
  {
   "cell_type": "markdown",
   "metadata": {},
   "source": [
    "The main objective is to verify the possibility of using k-nn method in the maturity rating research and find suspicious apps for the use of future Mturk survey<br /><br />\n",
    "What this notebook does:<br />\n",
    "1. Import the data, examine the shape and distribution\n",
    "2. Data preprocessing: regular expression, lowercase, remove stop words\n",
    "3. Randomly selection\n",
    "4. Count the amount of overlapes words on descriptions for each pair of Apps among our selected dataset\n",
    "5. For each app, select top 10 apps that have max overlaps words on description\n",
    "6. Predict true maturity rating for each app by \"top 10 apps\" ratings (Majority Voting)\n",
    "7. Further analysis"
   ]
  },
  {
   "cell_type": "markdown",
   "metadata": {},
   "source": [
    "## Dataset Overview "
   ]
  },
  {
   "cell_type": "markdown",
   "metadata": {},
   "source": [
    "44840 Apps data with titile, description and maturity rating<br />\n",
    "Crawled from Apple App Store"
   ]
  },
  {
   "cell_type": "markdown",
   "metadata": {},
   "source": [
    "## Exploring the Dataset - Pandas\n"
   ]
  },
  {
   "cell_type": "markdown",
   "metadata": {},
   "source": [
    "We'll use various python toolkits in this notebook. <br /><br />\n",
    "To start we will load<br />\n",
    "- pandas: dataframe data structure based on the one in R, along with vectorized routines for fast manipulation of the data<br />\n",
    "- numpy: various math tools, especially for constructing and working with multidimensional arrays.<br />\n",
    "- nltk: toolkit for building Python programs to work with human language data“an amazing library to play with natural language.”<br />"
   ]
  },
  {
   "cell_type": "code",
   "execution_count": 1,
   "metadata": {
    "collapsed": true
   },
   "outputs": [],
   "source": [
    "import nltk\n",
    "import pandas as pd\n",
    "from nltk.corpus import stopwords\n",
    "import string\n",
    "import numpy as np"
   ]
  },
  {
   "cell_type": "code",
   "execution_count": 2,
   "metadata": {
    "collapsed": false
   },
   "outputs": [],
   "source": [
    "# read data\n",
    "df = pd.read_csv('10-nn dataset.csv')"
   ]
  },
  {
   "cell_type": "code",
   "execution_count": 3,
   "metadata": {
    "collapsed": false
   },
   "outputs": [
    {
     "data": {
      "text/plain": [
       "(44840, 3)"
      ]
     },
     "execution_count": 3,
     "metadata": {},
     "output_type": "execute_result"
    }
   ],
   "source": [
    "# examine the shape\n",
    "df.shape"
   ]
  },
  {
   "cell_type": "code",
   "execution_count": 4,
   "metadata": {
    "collapsed": false
   },
   "outputs": [
    {
     "data": {
      "text/plain": [
       "4     31486\n",
       "12     8026\n",
       "9      3479\n",
       "17     1849\n",
       "Name: Age, dtype: int64"
      ]
     },
     "execution_count": 4,
     "metadata": {},
     "output_type": "execute_result"
    }
   ],
   "source": [
    "# examine the class distribution\n",
    "df.Age.value_counts()"
   ]
  },
  {
   "cell_type": "code",
   "execution_count": 5,
   "metadata": {
    "collapsed": false,
    "scrolled": true
   },
   "outputs": [
    {
     "data": {
      "text/html": [
       "<div>\n",
       "<table border=\"1\" class=\"dataframe\">\n",
       "  <thead>\n",
       "    <tr style=\"text-align: right;\">\n",
       "      <th></th>\n",
       "      <th>name</th>\n",
       "      <th>Description</th>\n",
       "      <th>Age</th>\n",
       "    </tr>\n",
       "  </thead>\n",
       "  <tbody>\n",
       "    <tr>\n",
       "      <th>0</th>\n",
       "      <td>'A A 777 My Slots Machines Rich FREE'</td>\n",
       "      <td>Download the best Slot experience for free to...</td>\n",
       "      <td>12</td>\n",
       "    </tr>\n",
       "    <tr>\n",
       "      <th>1</th>\n",
       "      <td>'A A 777 My Slots Machines Vegas Casino'</td>\n",
       "      <td>Download the best Slot experience for free to...</td>\n",
       "      <td>12</td>\n",
       "    </tr>\n",
       "    <tr>\n",
       "      <th>2</th>\n",
       "      <td>'A A 777 My Slots Rich Casino Amazing'</td>\n",
       "      <td>Download the best Slot experience for free to...</td>\n",
       "      <td>12</td>\n",
       "    </tr>\n",
       "    <tr>\n",
       "      <th>3</th>\n",
       "      <td>'A A 777 My Slots Rich Casino Vegas'</td>\n",
       "      <td>Download the best Slot experience for free to...</td>\n",
       "      <td>12</td>\n",
       "    </tr>\n",
       "    <tr>\n",
       "      <th>4</th>\n",
       "      <td>'A A 777 My Vegas Casino Slots FREE'</td>\n",
       "      <td>Download the best Slot experience for free to...</td>\n",
       "      <td>12</td>\n",
       "    </tr>\n",
       "    <tr>\n",
       "      <th>5</th>\n",
       "      <td>'A A 777 My Vegas Classic Slots Machines FREE'</td>\n",
       "      <td>Download the best Slot experience for free to...</td>\n",
       "      <td>12</td>\n",
       "    </tr>\n",
       "    <tr>\n",
       "      <th>6</th>\n",
       "      <td>'A A A 777 Abing'</td>\n",
       "      <td>Download the best Slot experience for free to...</td>\n",
       "      <td>12</td>\n",
       "    </tr>\n",
       "    <tr>\n",
       "      <th>7</th>\n",
       "      <td>'A A a 777 abingo Casino'</td>\n",
       "      <td>Download the best Slot experience for free to...</td>\n",
       "      <td>12</td>\n",
       "    </tr>\n",
       "    <tr>\n",
       "      <th>8</th>\n",
       "      <td>'A a A 777 ABluto Coins'</td>\n",
       "      <td>Download the best Slot experience for free to...</td>\n",
       "      <td>12</td>\n",
       "    </tr>\n",
       "    <tr>\n",
       "      <th>9</th>\n",
       "      <td>'A A A 777 Abuse Casino Vegas'</td>\n",
       "      <td>Download the best Slot experience for free to...</td>\n",
       "      <td>12</td>\n",
       "    </tr>\n",
       "  </tbody>\n",
       "</table>\n",
       "</div>"
      ],
      "text/plain": [
       "                                             name  \\\n",
       "0           'A A 777 My Slots Machines Rich FREE'   \n",
       "1        'A A 777 My Slots Machines Vegas Casino'   \n",
       "2          'A A 777 My Slots Rich Casino Amazing'   \n",
       "3            'A A 777 My Slots Rich Casino Vegas'   \n",
       "4            'A A 777 My Vegas Casino Slots FREE'   \n",
       "5  'A A 777 My Vegas Classic Slots Machines FREE'   \n",
       "6                               'A A A 777 Abing'   \n",
       "7                       'A A a 777 abingo Casino'   \n",
       "8                        'A a A 777 ABluto Coins'   \n",
       "9                  'A A A 777 Abuse Casino Vegas'   \n",
       "\n",
       "                                         Description  Age  \n",
       "0   Download the best Slot experience for free to...   12  \n",
       "1   Download the best Slot experience for free to...   12  \n",
       "2   Download the best Slot experience for free to...   12  \n",
       "3   Download the best Slot experience for free to...   12  \n",
       "4   Download the best Slot experience for free to...   12  \n",
       "5   Download the best Slot experience for free to...   12  \n",
       "6   Download the best Slot experience for free to...   12  \n",
       "7   Download the best Slot experience for free to...   12  \n",
       "8   Download the best Slot experience for free to...   12  \n",
       "9   Download the best Slot experience for free to...   12  "
      ]
     },
     "execution_count": 5,
     "metadata": {},
     "output_type": "execute_result"
    }
   ],
   "source": [
    "# check that the conversion worked\n",
    "df.head(10)"
   ]
  },
  {
   "cell_type": "markdown",
   "metadata": {},
   "source": [
    "## Randomly Selection"
   ]
  },
  {
   "cell_type": "code",
   "execution_count": 6,
   "metadata": {
    "collapsed": true
   },
   "outputs": [],
   "source": [
    "import random\n",
    "\n",
    "# random select \"size\" apps from the dataset\n",
    "X = df.Description\n",
    "size = 10000\n",
    "ran = random.sample(range(0, len(X)),size)\n",
    "# ran"
   ]
  },
  {
   "cell_type": "code",
   "execution_count": 7,
   "metadata": {
    "collapsed": false
   },
   "outputs": [
    {
     "data": {
      "text/html": [
       "<div>\n",
       "<table border=\"1\" class=\"dataframe\">\n",
       "  <thead>\n",
       "    <tr style=\"text-align: right;\">\n",
       "      <th></th>\n",
       "      <th>name</th>\n",
       "      <th>Description</th>\n",
       "      <th>Age</th>\n",
       "    </tr>\n",
       "  </thead>\n",
       "  <tbody>\n",
       "    <tr>\n",
       "      <th>0</th>\n",
       "      <td>'AA SKATE GAMES: Street Sessions 2012'</td>\n",
       "      <td>Test your skill, speed, stamina, and mind in ...</td>\n",
       "      <td>12</td>\n",
       "    </tr>\n",
       "    <tr>\n",
       "      <th>1</th>\n",
       "      <td>'Cake Pop Maker Free - Dessert &amp; Fruit Decoart...</td>\n",
       "      <td>Cup cakes, chocolates, ice cream and other ba...</td>\n",
       "      <td>4</td>\n",
       "    </tr>\n",
       "    <tr>\n",
       "      <th>2</th>\n",
       "      <td>'Fallen Shadows: Coming Home - A Hidden Object...</td>\n",
       "      <td>A family member has gone missing in New Orlea...</td>\n",
       "      <td>9</td>\n",
       "    </tr>\n",
       "    <tr>\n",
       "      <th>3</th>\n",
       "      <td>'Edna &amp; Harvey: The Breakout'</td>\n",
       "      <td>The award-winning debut adventure game from t...</td>\n",
       "      <td>9</td>\n",
       "    </tr>\n",
       "    <tr>\n",
       "      <th>4</th>\n",
       "      <td>'Dazzling Night'</td>\n",
       "      <td>Let's make the flower bloom at night when the ...</td>\n",
       "      <td>4</td>\n",
       "    </tr>\n",
       "    <tr>\n",
       "      <th>5</th>\n",
       "      <td>'Tangled 3d 2048  super cool brain teasing game'</td>\n",
       "      <td>Many version of 2048 games are created, howeve...</td>\n",
       "      <td>4</td>\n",
       "    </tr>\n",
       "    <tr>\n",
       "      <th>6</th>\n",
       "      <td>'Dark Shadow of Liberty HD'</td>\n",
       "      <td>*** $4.99 -&gt; $2.99 TODAY ONLY! GET THE MOST V...</td>\n",
       "      <td>4</td>\n",
       "    </tr>\n",
       "    <tr>\n",
       "      <th>7</th>\n",
       "      <td>'R.P.S.25'</td>\n",
       "      <td>How to playJoin panels, in the order of Rock-...</td>\n",
       "      <td>4</td>\n",
       "    </tr>\n",
       "    <tr>\n",
       "      <th>8</th>\n",
       "      <td>'Quick Spell'</td>\n",
       "      <td>Challenge your friends in this fast paced, ad...</td>\n",
       "      <td>4</td>\n",
       "    </tr>\n",
       "    <tr>\n",
       "      <th>9</th>\n",
       "      <td>'Water Bottle Slip Away Talent Show- Best Chal...</td>\n",
       "      <td>Now you Can have fun even more by doing the f...</td>\n",
       "      <td>4</td>\n",
       "    </tr>\n",
       "  </tbody>\n",
       "</table>\n",
       "</div>"
      ],
      "text/plain": [
       "                                                name  \\\n",
       "0             'AA SKATE GAMES: Street Sessions 2012'   \n",
       "1  'Cake Pop Maker Free - Dessert & Fruit Decoart...   \n",
       "2  'Fallen Shadows: Coming Home - A Hidden Object...   \n",
       "3                      'Edna & Harvey: The Breakout'   \n",
       "4                                   'Dazzling Night'   \n",
       "5   'Tangled 3d 2048  super cool brain teasing game'   \n",
       "6                        'Dark Shadow of Liberty HD'   \n",
       "7                                         'R.P.S.25'   \n",
       "8                                      'Quick Spell'   \n",
       "9  'Water Bottle Slip Away Talent Show- Best Chal...   \n",
       "\n",
       "                                         Description  Age  \n",
       "0   Test your skill, speed, stamina, and mind in ...   12  \n",
       "1   Cup cakes, chocolates, ice cream and other ba...    4  \n",
       "2   A family member has gone missing in New Orlea...    9  \n",
       "3   The award-winning debut adventure game from t...    9  \n",
       "4  Let's make the flower bloom at night when the ...    4  \n",
       "5  Many version of 2048 games are created, howeve...    4  \n",
       "6   *** $4.99 -> $2.99 TODAY ONLY! GET THE MOST V...    4  \n",
       "7   How to playJoin panels, in the order of Rock-...    4  \n",
       "8   Challenge your friends in this fast paced, ad...    4  \n",
       "9   Now you Can have fun even more by doing the f...    4  "
      ]
     },
     "execution_count": 7,
     "metadata": {},
     "output_type": "execute_result"
    }
   ],
   "source": [
    "df1 = df.loc[ran]\n",
    "df1.index = list(range(0, size))\n",
    "X = df1.Description\n",
    "df1.head(10)"
   ]
  },
  {
   "cell_type": "markdown",
   "metadata": {},
   "source": [
    "## Data Preprocessing"
   ]
  },
  {
   "cell_type": "code",
   "execution_count": 8,
   "metadata": {
    "collapsed": true
   },
   "outputs": [],
   "source": [
    "from nltk.tokenize import *\n",
    "from nltk.corpus import *\n",
    "from nltk.tokenize import RegexpTokenizer\n",
    "\n",
    "# Define the data preprocessing function: regular expression, lowercase, remove stop words\n",
    "def prep(des):\n",
    "    tokenizer = RegexpTokenizer(r'\\w+')\n",
    "    des = tokenizer.tokenize(des)\n",
    "    des = [des.lower() for des in des]\n",
    "    stop_words = set(stopwords.words(\"english\"))\n",
    "    des = [w for w in des if not w in stop_words]\n",
    "    return des"
   ]
  },
  {
   "cell_type": "code",
   "execution_count": 9,
   "metadata": {
    "collapsed": false
   },
   "outputs": [],
   "source": [
    "# preprocess description data\n",
    "Y = []\n",
    "for i in range(0, size):\n",
    "    Y.append(prep(X[i]))"
   ]
  },
  {
   "cell_type": "markdown",
   "metadata": {},
   "source": [
    "## 10 Nearest Neighbor "
   ]
  },
  {
   "cell_type": "code",
   "execution_count": 10,
   "metadata": {
    "collapsed": false
   },
   "outputs": [],
   "source": [
    "# Count the amount of overlapes words on descriptions for each pair of Apps among our selected dataset\n",
    "Y_count = []\n",
    "for j in range(0,size):\n",
    "    Y_count.append(0)\n",
    "    Y_count[j] = []\n",
    "    \n",
    "    for i in range(0,size):\n",
    "        Y_count[j].append(len(list(set(Y[j]) & set(Y[i]))))\n",
    "# Y_count"
   ]
  },
  {
   "cell_type": "code",
   "execution_count": 11,
   "metadata": {
    "collapsed": false
   },
   "outputs": [],
   "source": [
    "# len(Y_count)"
   ]
  },
  {
   "cell_type": "code",
   "execution_count": 12,
   "metadata": {
    "collapsed": false,
    "scrolled": true
   },
   "outputs": [],
   "source": [
    "# Generate 10-nn index for each app\n",
    "ind = []\n",
    "for i in range(0,size):\n",
    "    ind.append(np.argpartition(Y_count[i], -10)[-10:])\n",
    "#ind"
   ]
  },
  {
   "cell_type": "code",
   "execution_count": 13,
   "metadata": {
    "collapsed": false,
    "scrolled": true
   },
   "outputs": [],
   "source": [
    "# df1.Age[ind[2]]"
   ]
  },
  {
   "cell_type": "markdown",
   "metadata": {},
   "source": [
    "## True Rating Prediction"
   ]
  },
  {
   "cell_type": "code",
   "execution_count": 14,
   "metadata": {
    "collapsed": true
   },
   "outputs": [],
   "source": [
    "# Define majority voting function\n",
    "\n",
    "def find_majority(k):\n",
    "    myMap = {}\n",
    "    maximum = ( '', 0 ) # (occurring element, occurrences)\n",
    "    for n in k:\n",
    "        if n in myMap: myMap[n] += 1\n",
    "        else: myMap[n] = 1\n",
    "\n",
    "        # Keep track of maximum on the go\n",
    "        if myMap[n] > maximum[1]: maximum = (n,myMap[n])\n",
    "\n",
    "    return maximum"
   ]
  },
  {
   "cell_type": "code",
   "execution_count": 15,
   "metadata": {
    "collapsed": false
   },
   "outputs": [],
   "source": [
    "# Predict true rating for each apps\n",
    "predict = []\n",
    "for i in range(0,len(Y)):\n",
    "    predict.append(find_majority(df1.Age[ind[i]])[0])\n",
    "# len(predict)"
   ]
  },
  {
   "cell_type": "code",
   "execution_count": 16,
   "metadata": {
    "collapsed": false
   },
   "outputs": [],
   "source": [
    "# Append the result to our dataframe\n",
    "df1['predict'] = predict"
   ]
  },
  {
   "cell_type": "code",
   "execution_count": 17,
   "metadata": {
    "collapsed": false
   },
   "outputs": [],
   "source": [
    "# df1.to_csv('10-nn prediction.csv')"
   ]
  },
  {
   "cell_type": "code",
   "execution_count": 18,
   "metadata": {
    "collapsed": false
   },
   "outputs": [],
   "source": [
    "# t=pd.read_csv('10-nn prediction.csv')"
   ]
  },
  {
   "cell_type": "code",
   "execution_count": 20,
   "metadata": {
    "collapsed": false
   },
   "outputs": [],
   "source": [
    "# Compute accuracy\n",
    "# sum(t.Age ==t.predict)"
   ]
  },
  {
   "cell_type": "code",
   "execution_count": 37,
   "metadata": {
    "collapsed": false,
    "scrolled": true
   },
   "outputs": [
    {
     "data": {
      "text/html": [
       "<div>\n",
       "<table border=\"1\" class=\"dataframe\">\n",
       "  <thead>\n",
       "    <tr style=\"text-align: right;\">\n",
       "      <th></th>\n",
       "      <th>name</th>\n",
       "      <th>Description</th>\n",
       "      <th>Age</th>\n",
       "      <th>predict</th>\n",
       "    </tr>\n",
       "  </thead>\n",
       "  <tbody>\n",
       "    <tr>\n",
       "      <th>20</th>\n",
       "      <td>'Dasher Dan PRO - Zombie Monkey Island'</td>\n",
       "      <td>Escape from Zombie Monkey Island! Only Dasher...</td>\n",
       "      <td>9</td>\n",
       "      <td>12</td>\n",
       "    </tr>\n",
       "    <tr>\n",
       "      <th>23</th>\n",
       "      <td>'Da Vinci Pinball'</td>\n",
       "      <td>Answering the calls for another stellar pinbal...</td>\n",
       "      <td>4</td>\n",
       "      <td>12</td>\n",
       "    </tr>\n",
       "    <tr>\n",
       "      <th>28</th>\n",
       "      <td>'Danger Dodgers'</td>\n",
       "      <td>Danger Dodgers - Endless End Of The WorldChoos...</td>\n",
       "      <td>9</td>\n",
       "      <td>4</td>\n",
       "    </tr>\n",
       "    <tr>\n",
       "      <th>35</th>\n",
       "      <td>'DARK - STAR'</td>\n",
       "      <td>Dark Star is an epic arcade shoot-em-up in de...</td>\n",
       "      <td>12</td>\n",
       "      <td>9</td>\n",
       "    </tr>\n",
       "    <tr>\n",
       "      <th>36</th>\n",
       "      <td>'Easy Math For Kids - Free'</td>\n",
       "      <td>Easy Math For KidsHow fast can you count?Bett...</td>\n",
       "      <td>4</td>\n",
       "      <td>12</td>\n",
       "    </tr>\n",
       "    <tr>\n",
       "      <th>48</th>\n",
       "      <td>'Dark Chess - The Way of Kings'</td>\n",
       "      <td>If you like to play Chinese Dark Chess, you h...</td>\n",
       "      <td>4</td>\n",
       "      <td>12</td>\n",
       "    </tr>\n",
       "    <tr>\n",
       "      <th>51</th>\n",
       "      <td>'Fall Down 100'</td>\n",
       "      <td>It's an easy and excited game, drive your pilo...</td>\n",
       "      <td>9</td>\n",
       "      <td>4</td>\n",
       "    </tr>\n",
       "    <tr>\n",
       "      <th>55</th>\n",
       "      <td>'Camel Ride Halloween'</td>\n",
       "      <td>Enjoy an adventure with Pakalu Papito and Cam...</td>\n",
       "      <td>9</td>\n",
       "      <td>4</td>\n",
       "    </tr>\n",
       "    <tr>\n",
       "      <th>61</th>\n",
       "      <td>'Cali CowChat'</td>\n",
       "      <td>Things just sound better (and funnier) coming...</td>\n",
       "      <td>17</td>\n",
       "      <td>4</td>\n",
       "    </tr>\n",
       "    <tr>\n",
       "      <th>72</th>\n",
       "      <td>'Cabola Monster Pixel Adventure'</td>\n",
       "      <td>Clear as many monsters out of the town as you ...</td>\n",
       "      <td>9</td>\n",
       "      <td>4</td>\n",
       "    </tr>\n",
       "  </tbody>\n",
       "</table>\n",
       "</div>"
      ],
      "text/plain": [
       "                                       name  \\\n",
       "20  'Dasher Dan PRO - Zombie Monkey Island'   \n",
       "23                       'Da Vinci Pinball'   \n",
       "28                         'Danger Dodgers'   \n",
       "35                            'DARK - STAR'   \n",
       "36              'Easy Math For Kids - Free'   \n",
       "48          'Dark Chess - The Way of Kings'   \n",
       "51                          'Fall Down 100'   \n",
       "55                   'Camel Ride Halloween'   \n",
       "61                           'Cali CowChat'   \n",
       "72         'Cabola Monster Pixel Adventure'   \n",
       "\n",
       "                                          Description  Age  predict  \n",
       "20   Escape from Zombie Monkey Island! Only Dasher...    9       12  \n",
       "23  Answering the calls for another stellar pinbal...    4       12  \n",
       "28  Danger Dodgers - Endless End Of The WorldChoos...    9        4  \n",
       "35   Dark Star is an epic arcade shoot-em-up in de...   12        9  \n",
       "36   Easy Math For KidsHow fast can you count?Bett...    4       12  \n",
       "48   If you like to play Chinese Dark Chess, you h...    4       12  \n",
       "51  It's an easy and excited game, drive your pilo...    9        4  \n",
       "55   Enjoy an adventure with Pakalu Papito and Cam...    9        4  \n",
       "61   Things just sound better (and funnier) coming...   17        4  \n",
       "72  Clear as many monsters out of the town as you ...    9        4  "
      ]
     },
     "execution_count": 37,
     "metadata": {},
     "output_type": "execute_result"
    }
   ],
   "source": [
    "df2 = df1.loc[t.Age !=t.predict]\n",
    "df2.head(10)"
   ]
  },
  {
   "cell_type": "code",
   "execution_count": 38,
   "metadata": {
    "collapsed": false,
    "scrolled": true
   },
   "outputs": [
    {
     "data": {
      "text/plain": [
       "9     392\n",
       "12    388\n",
       "17    181\n",
       "4     142\n",
       "Name: Age, dtype: int64"
      ]
     },
     "execution_count": 38,
     "metadata": {},
     "output_type": "execute_result"
    }
   ],
   "source": [
    "df2.Age.value_counts()"
   ]
  },
  {
   "cell_type": "code",
   "execution_count": 39,
   "metadata": {
    "collapsed": false
   },
   "outputs": [
    {
     "data": {
      "text/plain": [
       "4     6642\n",
       "12    2441\n",
       "9      620\n",
       "17     297\n",
       "Name: Age, dtype: int64"
      ]
     },
     "execution_count": 39,
     "metadata": {},
     "output_type": "execute_result"
    }
   ],
   "source": [
    "df1.Age.value_counts()"
   ]
  }
 ],
 "metadata": {
  "anaconda-cloud": {},
  "kernelspec": {
   "display_name": "Python [conda root]",
   "language": "python",
   "name": "conda-root-py"
  },
  "language_info": {
   "codemirror_mode": {
    "name": "ipython",
    "version": 3
   },
   "file_extension": ".py",
   "mimetype": "text/x-python",
   "name": "python",
   "nbconvert_exporter": "python",
   "pygments_lexer": "ipython3",
   "version": "3.5.2"
  }
 },
 "nbformat": 4,
 "nbformat_minor": 1
}
